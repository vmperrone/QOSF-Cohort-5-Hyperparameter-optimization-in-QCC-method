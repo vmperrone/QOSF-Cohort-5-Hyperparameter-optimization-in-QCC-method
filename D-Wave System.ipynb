{
 "cells": [
  {
   "cell_type": "markdown",
   "metadata": {},
   "source": [
    "We start by importing the necessesary libraries:"
   ]
  },
  {
   "cell_type": "code",
   "execution_count": 3,
   "metadata": {},
   "outputs": [],
   "source": [
    "import math\n",
    "\n",
    "from openfermionpyscf import run_pyscf\n",
    "from openfermion.transforms import binary_code_transform, bravyi_kitaev_code, get_fermion_operator\n",
    "from openfermion.chem import MolecularData\n",
    "from openfermion.ops import FermionOperator, QubitOperator\n",
    "from openfermion.utils import count_qubits\n",
    "from pyscf import gto, scf, mcscf\n",
    "\n",
    "from helper_functions import *\n",
    "from XBK_method import *\n",
    "from QCC_method import *\n",
    "\n",
    "import time\n",
    "import statistics as st\n",
    "from pprint import pprint\n",
    "\n",
    "import sys\n",
    "#!{sys.executable} -m pip install seaborn\n",
    "#!{sys.executable} -m pip install dwave-ocean-sdk\n",
    "#!dwave setup\n",
    "\n",
    "\n",
    "import pandas as pd\n",
    "import numpy as np\n",
    "import seaborn as sns\n",
    "import matplotlib.pyplot as plt\n",
    "cmap = sns.cm.rocket_r\n",
    "plt.rcParams[\"figure.figsize\"] = (20,3)"
   ]
  },
  {
   "cell_type": "markdown",
   "metadata": {},
   "source": [
    "We create our molecule and define its properties, along with our chosen basis set:"
   ]
  },
  {
   "cell_type": "code",
   "execution_count": 4,
   "metadata": {},
   "outputs": [],
   "source": [
    "#create molecule\n",
    "name = 'HCONH2'\n",
    "charge = 0\n",
    "multiplicity = 1\n",
    "basis = 'sto-6g'\n",
    "\n",
    "bond_length = 1.1\n",
    "geometry = get_molGeometry(name, bond_length)\n",
    "    \n",
    "molecule = MolecularData(\n",
    "    geometry=geometry,\n",
    "    basis=basis,\n",
    "    multiplicity=multiplicity,\n",
    "    charge=charge\n",
    ")"
   ]
  },
  {
   "cell_type": "markdown",
   "metadata": {},
   "source": [
    "Calculating the energies classically:"
   ]
  },
  {
   "cell_type": "code",
   "execution_count": 5,
   "metadata": {},
   "outputs": [
    {
     "name": "stdout",
     "output_type": "stream",
     "text": [
      "-205.53387517069766\n",
      "1.3430852890014648\n"
     ]
    }
   ],
   "source": [
    "#run RHF calculations\n",
    "\n",
    "start_time = time.time()\n",
    "molecule = run_pyscf(molecule, run_scf=True)\n",
    "end_time = time.time() - start_time\n",
    "\n",
    "hf_energy = float(molecule.hf_energy)\n",
    "hf_data = molecule._pyscf_data['scf']\n",
    "\n",
    "print(hf_energy)\n",
    "print(end_time)"
   ]
  },
  {
   "cell_type": "code",
   "execution_count": 6,
   "metadata": {},
   "outputs": [
    {
     "name": "stdout",
     "output_type": "stream",
     "text": [
      "-205.54647301011357\n"
     ]
    }
   ],
   "source": [
    "#define active space\n",
    "n_active_electrons = 2\n",
    "n_active_orbitals = 3\n",
    "occupied_indices, active_indices = get_active_space(molecule, n_active_electrons, n_active_orbitals)\n",
    "\n",
    "#run CASCI calculations\n",
    "casci_data = hf_data.CASCI(n_active_orbitals, n_active_electrons).run(verbose=False)\n",
    "casci_energy = float(casci_data.e_tot)\n",
    "\n",
    "print(casci_energy)"
   ]
  },
  {
   "cell_type": "markdown",
   "metadata": {},
   "source": [
    "Convert from Fermionic basis to qubit and then to Ising model:"
   ]
  },
  {
   "cell_type": "code",
   "execution_count": 7,
   "metadata": {},
   "outputs": [],
   "source": [
    "#%%capture\n",
    "#convert to fermionic Hamiltonian\n",
    "molecular_H = molecule.get_molecular_hamiltonian(occupied_indices=occupied_indices, active_indices=active_indices)\n",
    "if molecular_H[()] == None:\n",
    "    molecular_H[()] = 0\n",
    "fermionic_H = get_fermion_operator(molecular_H)\n",
    "\n",
    "#add penalty term to ensure correct number of electrons in ground state\n",
    "weight = 5\n",
    "penalty_term = FermionOperator('', n_active_electrons)\n",
    "\n",
    "for i in range(molecular_H.n_qubits):\n",
    "    penalty_term += FermionOperator(str(i)+'^ '+str(i), -1)\n",
    "fermionic_H += weight*penalty_term**2\n",
    "\n",
    "f_operators = list(fermionic_H.get_operators())\n",
    "#print(len(f_operators))\n",
    "#print(fermionic_H)"
   ]
  },
  {
   "cell_type": "code",
   "execution_count": 8,
   "metadata": {
    "scrolled": true
   },
   "outputs": [
    {
     "name": "stdout",
     "output_type": "stream",
     "text": [
      "-205.5464730101142 \n",
      "\n"
     ]
    }
   ],
   "source": [
    "#%%capture\n",
    "#convert to Pauli operator Hamiltonian\n",
    "binary_code = bravyi_kitaev_code(molecular_H.n_qubits)\n",
    "qubit_H = binary_code_transform(fermionic_H, binary_code)\n",
    "qubit_H.compress()\n",
    "\n",
    "#apply symmetry reductions and calculate minimum eigenvalue (should be equal to CASCI energy)\n",
    "sectors = taper_qubits(qubit_H)\n",
    "qubit_H, min_eigenvalue = sector_with_ground(sectors)\n",
    "m = count_qubits(qubit_H)\n",
    "\n",
    "print(min_eigenvalue, '\\n')\n",
    "operators = list(qubit_H.get_operators())\n",
    "#print(len(operators))\n",
    "#print(m)"
   ]
  },
  {
   "cell_type": "markdown",
   "metadata": {},
   "source": [
    "Connect to DWave machine:"
   ]
  },
  {
   "cell_type": "code",
   "execution_count": 9,
   "metadata": {},
   "outputs": [
    {
     "name": "stdout",
     "output_type": "stream",
     "text": [
      "Connected to sampler DW_2000Q_6\n"
     ]
    }
   ],
   "source": [
    "#set sampler to perform the annealing\n",
    "#from neal import SimulatedAnnealingSampler\n",
    "#sampler = SimulatedAnnealingSampler() #uses simulated annealing, see D-Wave's ocean sdk for more options\n",
    "\n",
    "## Real Device Backend\n",
    "from dwave.system.samplers import DWaveSampler\n",
    "sampler = DWaveSampler()\n",
    "\n",
    "print(\"Connected to sampler\", sampler.solver.name)\n",
    "sampler = EmbeddingComposite(sampler)\n"
   ]
  },
  {
   "cell_type": "markdown",
   "metadata": {},
   "source": [
    "Define functions for running the QCC algorithm, for testing different parameters, and for plotting:"
   ]
  },
  {
   "cell_type": "code",
   "execution_count": 10,
   "metadata": {},
   "outputs": [],
   "source": [
    "### QCC method ###\n",
    "\n",
    "def QCC_m(angle_folds=3, amplitude_folds=1, num_cycles=10, num_samples=1000, strength=1e3):\n",
    "    #set number of Bloch angle and entangler amplitude foldings\n",
    "    #angle_folds = 3\n",
    "    #amplitude_folds = 1\n",
    "#    print(\"Angle folds: \", angle_folds, \"\\nAmplitude Folds: \", amplitude_folds, \n",
    "#          \"\\nNum cycles: \", num_cycles, \"\\nStrength: \", strength)\n",
    "\n",
    "    #create dictionary of QubitOperator entanglers\n",
    "    entanglers = {'IYZI': QubitOperator('Y1 Z2'), 'IZYI': QubitOperator('Z1 Y2'),\n",
    "                  'IXYI': QubitOperator('X1 Y2'), 'IYXI': QubitOperator('Y1 X2')}\n",
    "\n",
    "    #run QCC method\n",
    "    sampler = DWaveSampler()\n",
    "    sampler = EmbeddingComposite(sampler)\n",
    "\n",
    "    QCC_energy, variables, response = QCC(qubit_H, entanglers, angle_folds, amplitude_folds, sampler,\n",
    "                                num_cycles=num_cycles, num_samples=num_samples, strength=strength)\n",
    "    \n",
    "    #print(response.info[\"timing\"])\n",
    "    return QCC_energy, response.info[\"timing\"]\n",
    "\n",
    "#print(\"Finished.\")\n",
    "#print(QCC_energy)\n",
    "#print(variables)"
   ]
  },
  {
   "cell_type": "code",
   "execution_count": 11,
   "metadata": {},
   "outputs": [],
   "source": [
    "### Test method ###\n",
    "\n",
    "def Test(QPU=False, num_cycles=[3,4,5,6,7], num_samples=[100,300,500,700,900], strengths=[1000], runs=5, angle_folds=3, amplitude_folds=1):\n",
    "    results = []\n",
    "    for cycle in num_cycles:\n",
    "        for sample in num_samples:\n",
    "            for strength in strengths:\n",
    "                this_time = []\n",
    "                this_energy = []\n",
    "                if QPU:\n",
    "                    for i in range(0,runs):\n",
    "                        response = QCC_m(3, 1, cycle, sample, strength)\n",
    "                        energy = response[0]\n",
    "                        print(\"Energy: \", energy)\n",
    "                        this_energy.append(energy - hf_energy)\n",
    "                        this_time.append(response[1]['qpu_access_time'])\n",
    "                        print(\"Time: \", response[1]['qpu_access_time'])\n",
    "                        print(\"Run \", i, \"completed.\")\n",
    "                    results.append([cycle, sample, strength, st.mean(this_energy), st.stdev(this_energy), st.mean(this_time), st.stdev(this_time)])\n",
    "                    print(\"Result \", cycle, sample, strength, \" finished.\")\n",
    "                else:\n",
    "                    for i in range(0,runs):\n",
    "                        start_time = time.time()\n",
    "                        energy = QCC_m(3, 1, cycle, sample, strength)\n",
    "                        print(energy)\n",
    "                        end_time = time.time() - start_time\n",
    "                        this_energy.append(energy - hf_energy)\n",
    "                        this_time.append(end_time)\n",
    "                        print(\"Run \", i, \"completed.\")\n",
    "                    results.append([cycle, sample, strength, st.mean(this_energy), st.stdev(this_energy), st.mean(this_time), st.stdev(this_time)])\n",
    "                    print(\"Result \", cycle, sample, strength, \" finished.\")\n",
    "    return results"
   ]
  },
  {
   "cell_type": "code",
   "execution_count": 12,
   "metadata": {},
   "outputs": [],
   "source": [
    "def plot_heatmap(results, xvar=\"num_samples\", yvar=\"num_cycles\", const=\"str\"):\n",
    "    titles=[\"Average energy error for number of samples vs number of cycles\",\n",
    "           \"Standard deviation in energy error for number of samples vs number of cycles\",\n",
    "           \"Average time for number of samples vs number of cycles\"]\n",
    "\n",
    "    for i in range(3,6):\n",
    "        data = list(chunks(([result[i] for result in results[0::tot_str]]),tot_samples))\n",
    "\n",
    "        vmax = max_value(data)\n",
    "        if(i!=5):\n",
    "            vmax/=10\n",
    "        vmin = min_value(data)\n",
    "\n",
    "        ax = sns.heatmap(data, vmin=vmin, vmax=vmax, xticklabels=num_samples, yticklabels=num_cycles, cmap=cmap)\n",
    "        plt.xlabel(\"Number of samples\")\n",
    "        plt.ylabel(\"Number of cycles\")\n",
    "        plt.title(titles[i-3])\n",
    "        plt.show()"
   ]
  },
  {
   "cell_type": "markdown",
   "metadata": {},
   "source": [
    "Running a small demo over just 4 parameters, 3 runs each, 12 runs total.\n",
    "\n",
    "We see that in many cases, the energy blows up (expected value around -205). Also occassionally the error \"ValueError: no embedding found\" appears. "
   ]
  },
  {
   "cell_type": "code",
   "execution_count": 16,
   "metadata": {},
   "outputs": [
    {
     "name": "stdout",
     "output_type": "stream",
     "text": [
      "2\n",
      "2\n",
      "Energy:  12811.899075119582\n",
      "Time:  71041.1\n",
      "Run  0 completed.\n",
      "Energy:  -205.4520072061423\n",
      "Time:  70664.1\n",
      "Run  1 completed.\n",
      "Energy:  1794.7508064952563\n",
      "Time:  70762.3\n",
      "Run  2 completed.\n",
      "Result  4 250 1000  finished.\n",
      "Energy:  -205.53763206052827\n",
      "Time:  130442.7\n",
      "Run  0 completed.\n",
      "Energy:  10824.044112685602\n",
      "Time:  130708.3\n",
      "Run  1 completed.\n",
      "Energy:  794.5479927947745\n",
      "Time:  130550.9\n",
      "Run  2 completed.\n",
      "Result  4 500 1000  finished.\n"
     ]
    },
    {
     "ename": "ValueError",
     "evalue": "no embedding found",
     "output_type": "error",
     "traceback": [
      "\u001b[0;31m---------------------------------------------------------------------------\u001b[0m",
      "\u001b[0;31mValueError\u001b[0m                                Traceback (most recent call last)",
      "\u001b[0;32m/tmp/ipykernel_347/1454505187.py\u001b[0m in \u001b[0;36m<module>\u001b[0;34m\u001b[0m\n\u001b[1;32m      9\u001b[0m \u001b[0mprint\u001b[0m\u001b[0;34m(\u001b[0m\u001b[0mtot_samples\u001b[0m\u001b[0;34m)\u001b[0m\u001b[0;34m\u001b[0m\u001b[0;34m\u001b[0m\u001b[0m\n\u001b[1;32m     10\u001b[0m \u001b[0;34m\u001b[0m\u001b[0m\n\u001b[0;32m---> 11\u001b[0;31m \u001b[0mresults_QPUTest\u001b[0m \u001b[0;34m=\u001b[0m \u001b[0mTest\u001b[0m\u001b[0;34m(\u001b[0m\u001b[0;32mTrue\u001b[0m\u001b[0;34m,\u001b[0m \u001b[0mnum_cycles\u001b[0m\u001b[0;34m,\u001b[0m \u001b[0mnum_samples\u001b[0m\u001b[0;34m,\u001b[0m \u001b[0mstrengths\u001b[0m\u001b[0;34m,\u001b[0m \u001b[0mruns\u001b[0m\u001b[0;34m)\u001b[0m\u001b[0;34m\u001b[0m\u001b[0;34m\u001b[0m\u001b[0m\n\u001b[0m\u001b[1;32m     12\u001b[0m \u001b[0mpprint\u001b[0m\u001b[0;34m(\u001b[0m\u001b[0mresults_QPUTest\u001b[0m\u001b[0;34m)\u001b[0m\u001b[0;34m\u001b[0m\u001b[0;34m\u001b[0m\u001b[0m\n",
      "\u001b[0;32m/tmp/ipykernel_347/3898060147.py\u001b[0m in \u001b[0;36mTest\u001b[0;34m(QPU, num_cycles, num_samples, strengths, runs, angle_folds, amplitude_folds)\u001b[0m\n\u001b[1;32m     10\u001b[0m                 \u001b[0;32mif\u001b[0m \u001b[0mQPU\u001b[0m\u001b[0;34m:\u001b[0m\u001b[0;34m\u001b[0m\u001b[0;34m\u001b[0m\u001b[0m\n\u001b[1;32m     11\u001b[0m                     \u001b[0;32mfor\u001b[0m \u001b[0mi\u001b[0m \u001b[0;32min\u001b[0m \u001b[0mrange\u001b[0m\u001b[0;34m(\u001b[0m\u001b[0;36m0\u001b[0m\u001b[0;34m,\u001b[0m\u001b[0mruns\u001b[0m\u001b[0;34m)\u001b[0m\u001b[0;34m:\u001b[0m\u001b[0;34m\u001b[0m\u001b[0;34m\u001b[0m\u001b[0m\n\u001b[0;32m---> 12\u001b[0;31m                         \u001b[0mresponse\u001b[0m \u001b[0;34m=\u001b[0m \u001b[0mQCC_m\u001b[0m\u001b[0;34m(\u001b[0m\u001b[0;36m3\u001b[0m\u001b[0;34m,\u001b[0m \u001b[0;36m1\u001b[0m\u001b[0;34m,\u001b[0m \u001b[0mcycle\u001b[0m\u001b[0;34m,\u001b[0m \u001b[0msample\u001b[0m\u001b[0;34m,\u001b[0m \u001b[0mstrength\u001b[0m\u001b[0;34m)\u001b[0m\u001b[0;34m\u001b[0m\u001b[0;34m\u001b[0m\u001b[0m\n\u001b[0m\u001b[1;32m     13\u001b[0m                         \u001b[0menergy\u001b[0m \u001b[0;34m=\u001b[0m \u001b[0mresponse\u001b[0m\u001b[0;34m[\u001b[0m\u001b[0;36m0\u001b[0m\u001b[0;34m]\u001b[0m\u001b[0;34m\u001b[0m\u001b[0;34m\u001b[0m\u001b[0m\n\u001b[1;32m     14\u001b[0m                         \u001b[0mprint\u001b[0m\u001b[0;34m(\u001b[0m\u001b[0;34m\"Energy: \"\u001b[0m\u001b[0;34m,\u001b[0m \u001b[0menergy\u001b[0m\u001b[0;34m)\u001b[0m\u001b[0;34m\u001b[0m\u001b[0;34m\u001b[0m\u001b[0m\n",
      "\u001b[0;32m/tmp/ipykernel_347/2355914525.py\u001b[0m in \u001b[0;36mQCC_m\u001b[0;34m(angle_folds, amplitude_folds, num_cycles, num_samples, strength)\u001b[0m\n\u001b[1;32m     16\u001b[0m     \u001b[0msampler\u001b[0m \u001b[0;34m=\u001b[0m \u001b[0mEmbeddingComposite\u001b[0m\u001b[0;34m(\u001b[0m\u001b[0msampler\u001b[0m\u001b[0;34m)\u001b[0m\u001b[0;34m\u001b[0m\u001b[0;34m\u001b[0m\u001b[0m\n\u001b[1;32m     17\u001b[0m \u001b[0;34m\u001b[0m\u001b[0m\n\u001b[0;32m---> 18\u001b[0;31m     QCC_energy, variables, response = QCC(qubit_H, entanglers, angle_folds, amplitude_folds, sampler,\n\u001b[0m\u001b[1;32m     19\u001b[0m                                 num_cycles=num_cycles, num_samples=num_samples, strength=strength)\n\u001b[1;32m     20\u001b[0m \u001b[0;34m\u001b[0m\u001b[0m\n",
      "\u001b[0;32m/mnt/c/Users/mocha/Desktop/Quantum-Chemistry-with-Annealers-master/QCC_method.py\u001b[0m in \u001b[0;36mQCC\u001b[0;34m(qubit_H, entanglers, angle_folds, amplitude_folds, sampler, num_cycles, num_samples, strength, verbose)\u001b[0m\n\u001b[1;32m    198\u001b[0m \u001b[0;34m\u001b[0m\u001b[0m\n\u001b[1;32m    199\u001b[0m     \u001b[0;31m#minimize QCC expression\u001b[0m\u001b[0;34m\u001b[0m\u001b[0;34m\u001b[0m\u001b[0;34m\u001b[0m\u001b[0m\n\u001b[0;32m--> 200\u001b[0;31m     QCC_energy, cont_dict, disc_dict, response = minimize_expr(expr, angle_folds, amplitude_folds, sampler,\n\u001b[0m\u001b[1;32m    201\u001b[0m         max_cycles=num_cycles, num_samples=num_samples, strength=strength, verbose=verbose)\n\u001b[1;32m    202\u001b[0m \u001b[0;34m\u001b[0m\u001b[0m\n",
      "\u001b[0;32m/mnt/c/Users/mocha/Desktop/Quantum-Chemistry-with-Annealers-master/QCC_method.py\u001b[0m in \u001b[0;36mminimize_expr\u001b[0;34m(expr, angle_folds, amplitude_folds, sampler, max_cycles, num_samples, strength, verbose)\u001b[0m\n\u001b[1;32m     82\u001b[0m \u001b[0;34m\u001b[0m\u001b[0m\n\u001b[1;32m     83\u001b[0m         \u001b[0;31m#run sampler\u001b[0m\u001b[0;34m\u001b[0m\u001b[0;34m\u001b[0m\u001b[0;34m\u001b[0m\u001b[0m\n\u001b[0;32m---> 84\u001b[0;31m         \u001b[0mresponse\u001b[0m \u001b[0;34m=\u001b[0m \u001b[0msampler\u001b[0m\u001b[0;34m.\u001b[0m\u001b[0msample_qubo\u001b[0m\u001b[0;34m(\u001b[0m\u001b[0mqubo\u001b[0m\u001b[0;34m,\u001b[0m\u001b[0mnum_reads\u001b[0m\u001b[0;34m=\u001b[0m\u001b[0mnum_samples\u001b[0m\u001b[0;34m)\u001b[0m\u001b[0;34m\u001b[0m\u001b[0;34m\u001b[0m\u001b[0m\n\u001b[0m\u001b[1;32m     85\u001b[0m         \u001b[0msolutions\u001b[0m \u001b[0;34m=\u001b[0m \u001b[0mpd\u001b[0m\u001b[0;34m.\u001b[0m\u001b[0mDataFrame\u001b[0m\u001b[0;34m(\u001b[0m\u001b[0mresponse\u001b[0m\u001b[0;34m.\u001b[0m\u001b[0mdata\u001b[0m\u001b[0;34m(\u001b[0m\u001b[0;34m)\u001b[0m\u001b[0;34m)\u001b[0m\u001b[0;34m\u001b[0m\u001b[0;34m\u001b[0m\u001b[0m\n\u001b[1;32m     86\u001b[0m         \u001b[0mminIndex\u001b[0m \u001b[0;34m=\u001b[0m \u001b[0mint\u001b[0m\u001b[0;34m(\u001b[0m\u001b[0msolutions\u001b[0m\u001b[0;34m[\u001b[0m\u001b[0;34m[\u001b[0m\u001b[0;34m'energy'\u001b[0m\u001b[0;34m]\u001b[0m\u001b[0;34m]\u001b[0m\u001b[0;34m.\u001b[0m\u001b[0midxmin\u001b[0m\u001b[0;34m(\u001b[0m\u001b[0;34m)\u001b[0m\u001b[0;34m)\u001b[0m\u001b[0;34m\u001b[0m\u001b[0;34m\u001b[0m\u001b[0m\n",
      "\u001b[0;32m~/.local/lib/python3.8/site-packages/dimod/core/sampler.py\u001b[0m in \u001b[0;36msample_qubo\u001b[0;34m(self, Q, **parameters)\u001b[0m\n\u001b[1;32m    291\u001b[0m         \"\"\"\n\u001b[1;32m    292\u001b[0m         \u001b[0mbqm\u001b[0m \u001b[0;34m=\u001b[0m \u001b[0mBinaryQuadraticModel\u001b[0m\u001b[0;34m.\u001b[0m\u001b[0mfrom_qubo\u001b[0m\u001b[0;34m(\u001b[0m\u001b[0mQ\u001b[0m\u001b[0;34m)\u001b[0m\u001b[0;34m\u001b[0m\u001b[0;34m\u001b[0m\u001b[0m\n\u001b[0;32m--> 293\u001b[0;31m         \u001b[0;32mreturn\u001b[0m \u001b[0mself\u001b[0m\u001b[0;34m.\u001b[0m\u001b[0msample\u001b[0m\u001b[0;34m(\u001b[0m\u001b[0mbqm\u001b[0m\u001b[0;34m,\u001b[0m \u001b[0;34m**\u001b[0m\u001b[0mparameters\u001b[0m\u001b[0;34m)\u001b[0m\u001b[0;34m\u001b[0m\u001b[0;34m\u001b[0m\u001b[0m\n\u001b[0m\u001b[1;32m    294\u001b[0m \u001b[0;34m\u001b[0m\u001b[0m\n\u001b[1;32m    295\u001b[0m     \u001b[0;32mdef\u001b[0m \u001b[0mremove_unknown_kwargs\u001b[0m\u001b[0;34m(\u001b[0m\u001b[0mself\u001b[0m\u001b[0;34m,\u001b[0m \u001b[0;34m**\u001b[0m\u001b[0mkwargs\u001b[0m\u001b[0;34m)\u001b[0m\u001b[0;34m:\u001b[0m\u001b[0;34m\u001b[0m\u001b[0;34m\u001b[0m\u001b[0m\n",
      "\u001b[0;32m~/.local/lib/python3.8/site-packages/dwave/system/composites/embedding.py\u001b[0m in \u001b[0;36msample\u001b[0;34m(self, bqm, chain_strength, chain_break_method, chain_break_fraction, embedding_parameters, return_embedding, warnings, **parameters)\u001b[0m\n\u001b[1;32m    237\u001b[0m \u001b[0;34m\u001b[0m\u001b[0m\n\u001b[1;32m    238\u001b[0m         \u001b[0;32mif\u001b[0m \u001b[0mbqm\u001b[0m \u001b[0;32mand\u001b[0m \u001b[0;32mnot\u001b[0m \u001b[0membedding\u001b[0m\u001b[0;34m:\u001b[0m\u001b[0;34m\u001b[0m\u001b[0;34m\u001b[0m\u001b[0m\n\u001b[0;32m--> 239\u001b[0;31m             \u001b[0;32mraise\u001b[0m \u001b[0mValueError\u001b[0m\u001b[0;34m(\u001b[0m\u001b[0;34m\"no embedding found\"\u001b[0m\u001b[0;34m)\u001b[0m\u001b[0;34m\u001b[0m\u001b[0;34m\u001b[0m\u001b[0m\n\u001b[0m\u001b[1;32m    240\u001b[0m \u001b[0;34m\u001b[0m\u001b[0m\n\u001b[1;32m    241\u001b[0m         \u001b[0;32mif\u001b[0m \u001b[0;32mnot\u001b[0m \u001b[0mhasattr\u001b[0m\u001b[0;34m(\u001b[0m\u001b[0membedding\u001b[0m\u001b[0;34m,\u001b[0m \u001b[0;34m'embed_bqm'\u001b[0m\u001b[0;34m)\u001b[0m\u001b[0;34m:\u001b[0m\u001b[0;34m\u001b[0m\u001b[0;34m\u001b[0m\u001b[0m\n",
      "\u001b[0;31mValueError\u001b[0m: no embedding found"
     ]
    }
   ],
   "source": [
    "num_cycles=[4,5]\n",
    "num_samples=[250,500]\n",
    "strengths=[1000]\n",
    "runs=3\n",
    "tot_cycles=len(num_cycles)\n",
    "tot_samples=len(num_samples)\n",
    "tot_str=len(strengths)\n",
    "print(tot_cycles)\n",
    "print(tot_samples)\n",
    "\n",
    "results_QPUTest = Test(True, num_cycles, num_samples, strengths, runs)\n",
    "pprint(results_QPUTest)"
   ]
  },
  {
   "cell_type": "markdown",
   "metadata": {},
   "source": [
    "Let's try one more run today (6/20/22)"
   ]
  },
  {
   "cell_type": "code",
   "execution_count": 13,
   "metadata": {},
   "outputs": [
    {
     "name": "stdout",
     "output_type": "stream",
     "text": [
      "1\n",
      "2\n",
      "Energy:  -205.4979681592058\n",
      "Time:  70606.1\n",
      "Run  0 completed.\n"
     ]
    },
    {
     "ename": "ValueError",
     "evalue": "no embedding found",
     "output_type": "error",
     "traceback": [
      "\u001b[0;31m---------------------------------------------------------------------------\u001b[0m",
      "\u001b[0;31mValueError\u001b[0m                                Traceback (most recent call last)",
      "\u001b[0;32m/tmp/ipykernel_714/400121238.py\u001b[0m in \u001b[0;36m<module>\u001b[0;34m\u001b[0m\n\u001b[1;32m      9\u001b[0m \u001b[0mprint\u001b[0m\u001b[0;34m(\u001b[0m\u001b[0mtot_samples\u001b[0m\u001b[0;34m)\u001b[0m\u001b[0;34m\u001b[0m\u001b[0;34m\u001b[0m\u001b[0m\n\u001b[1;32m     10\u001b[0m \u001b[0;34m\u001b[0m\u001b[0m\n\u001b[0;32m---> 11\u001b[0;31m \u001b[0mresults_QPUTest\u001b[0m \u001b[0;34m=\u001b[0m \u001b[0mTest\u001b[0m\u001b[0;34m(\u001b[0m\u001b[0;32mTrue\u001b[0m\u001b[0;34m,\u001b[0m \u001b[0mnum_cycles\u001b[0m\u001b[0;34m,\u001b[0m \u001b[0mnum_samples\u001b[0m\u001b[0;34m,\u001b[0m \u001b[0mstrengths\u001b[0m\u001b[0;34m,\u001b[0m \u001b[0mruns\u001b[0m\u001b[0;34m)\u001b[0m\u001b[0;34m\u001b[0m\u001b[0;34m\u001b[0m\u001b[0m\n\u001b[0m\u001b[1;32m     12\u001b[0m \u001b[0mpprint\u001b[0m\u001b[0;34m(\u001b[0m\u001b[0mresults_QPUTest\u001b[0m\u001b[0;34m)\u001b[0m\u001b[0;34m\u001b[0m\u001b[0;34m\u001b[0m\u001b[0m\n",
      "\u001b[0;32m/tmp/ipykernel_714/3898060147.py\u001b[0m in \u001b[0;36mTest\u001b[0;34m(QPU, num_cycles, num_samples, strengths, runs, angle_folds, amplitude_folds)\u001b[0m\n\u001b[1;32m     10\u001b[0m                 \u001b[0;32mif\u001b[0m \u001b[0mQPU\u001b[0m\u001b[0;34m:\u001b[0m\u001b[0;34m\u001b[0m\u001b[0;34m\u001b[0m\u001b[0m\n\u001b[1;32m     11\u001b[0m                     \u001b[0;32mfor\u001b[0m \u001b[0mi\u001b[0m \u001b[0;32min\u001b[0m \u001b[0mrange\u001b[0m\u001b[0;34m(\u001b[0m\u001b[0;36m0\u001b[0m\u001b[0;34m,\u001b[0m\u001b[0mruns\u001b[0m\u001b[0;34m)\u001b[0m\u001b[0;34m:\u001b[0m\u001b[0;34m\u001b[0m\u001b[0;34m\u001b[0m\u001b[0m\n\u001b[0;32m---> 12\u001b[0;31m                         \u001b[0mresponse\u001b[0m \u001b[0;34m=\u001b[0m \u001b[0mQCC_m\u001b[0m\u001b[0;34m(\u001b[0m\u001b[0;36m3\u001b[0m\u001b[0;34m,\u001b[0m \u001b[0;36m1\u001b[0m\u001b[0;34m,\u001b[0m \u001b[0mcycle\u001b[0m\u001b[0;34m,\u001b[0m \u001b[0msample\u001b[0m\u001b[0;34m,\u001b[0m \u001b[0mstrength\u001b[0m\u001b[0;34m)\u001b[0m\u001b[0;34m\u001b[0m\u001b[0;34m\u001b[0m\u001b[0m\n\u001b[0m\u001b[1;32m     13\u001b[0m                         \u001b[0menergy\u001b[0m \u001b[0;34m=\u001b[0m \u001b[0mresponse\u001b[0m\u001b[0;34m[\u001b[0m\u001b[0;36m0\u001b[0m\u001b[0;34m]\u001b[0m\u001b[0;34m\u001b[0m\u001b[0;34m\u001b[0m\u001b[0m\n\u001b[1;32m     14\u001b[0m                         \u001b[0mprint\u001b[0m\u001b[0;34m(\u001b[0m\u001b[0;34m\"Energy: \"\u001b[0m\u001b[0;34m,\u001b[0m \u001b[0menergy\u001b[0m\u001b[0;34m)\u001b[0m\u001b[0;34m\u001b[0m\u001b[0;34m\u001b[0m\u001b[0m\n",
      "\u001b[0;32m/tmp/ipykernel_714/2355914525.py\u001b[0m in \u001b[0;36mQCC_m\u001b[0;34m(angle_folds, amplitude_folds, num_cycles, num_samples, strength)\u001b[0m\n\u001b[1;32m     16\u001b[0m     \u001b[0msampler\u001b[0m \u001b[0;34m=\u001b[0m \u001b[0mEmbeddingComposite\u001b[0m\u001b[0;34m(\u001b[0m\u001b[0msampler\u001b[0m\u001b[0;34m)\u001b[0m\u001b[0;34m\u001b[0m\u001b[0;34m\u001b[0m\u001b[0m\n\u001b[1;32m     17\u001b[0m \u001b[0;34m\u001b[0m\u001b[0m\n\u001b[0;32m---> 18\u001b[0;31m     QCC_energy, variables, response = QCC(qubit_H, entanglers, angle_folds, amplitude_folds, sampler,\n\u001b[0m\u001b[1;32m     19\u001b[0m                                 num_cycles=num_cycles, num_samples=num_samples, strength=strength)\n\u001b[1;32m     20\u001b[0m \u001b[0;34m\u001b[0m\u001b[0m\n",
      "\u001b[0;32m/mnt/c/Users/mocha/Desktop/Quantum-Chemistry-with-Annealers-master/QCC_method.py\u001b[0m in \u001b[0;36mQCC\u001b[0;34m(qubit_H, entanglers, angle_folds, amplitude_folds, sampler, num_cycles, num_samples, strength, verbose)\u001b[0m\n\u001b[1;32m    198\u001b[0m \u001b[0;34m\u001b[0m\u001b[0m\n\u001b[1;32m    199\u001b[0m     \u001b[0;31m#minimize QCC expression\u001b[0m\u001b[0;34m\u001b[0m\u001b[0;34m\u001b[0m\u001b[0;34m\u001b[0m\u001b[0m\n\u001b[0;32m--> 200\u001b[0;31m     QCC_energy, cont_dict, disc_dict, response = minimize_expr(expr, angle_folds, amplitude_folds, sampler,\n\u001b[0m\u001b[1;32m    201\u001b[0m         max_cycles=num_cycles, num_samples=num_samples, strength=strength, verbose=verbose)\n\u001b[1;32m    202\u001b[0m \u001b[0;34m\u001b[0m\u001b[0m\n",
      "\u001b[0;32m/mnt/c/Users/mocha/Desktop/Quantum-Chemistry-with-Annealers-master/QCC_method.py\u001b[0m in \u001b[0;36mminimize_expr\u001b[0;34m(expr, angle_folds, amplitude_folds, sampler, max_cycles, num_samples, strength, verbose)\u001b[0m\n\u001b[1;32m     82\u001b[0m \u001b[0;34m\u001b[0m\u001b[0m\n\u001b[1;32m     83\u001b[0m         \u001b[0;31m#run sampler\u001b[0m\u001b[0;34m\u001b[0m\u001b[0;34m\u001b[0m\u001b[0;34m\u001b[0m\u001b[0m\n\u001b[0;32m---> 84\u001b[0;31m         \u001b[0mresponse\u001b[0m \u001b[0;34m=\u001b[0m \u001b[0msampler\u001b[0m\u001b[0;34m.\u001b[0m\u001b[0msample_qubo\u001b[0m\u001b[0;34m(\u001b[0m\u001b[0mqubo\u001b[0m\u001b[0;34m,\u001b[0m\u001b[0mnum_reads\u001b[0m\u001b[0;34m=\u001b[0m\u001b[0mnum_samples\u001b[0m\u001b[0;34m)\u001b[0m\u001b[0;34m\u001b[0m\u001b[0;34m\u001b[0m\u001b[0m\n\u001b[0m\u001b[1;32m     85\u001b[0m         \u001b[0msolutions\u001b[0m \u001b[0;34m=\u001b[0m \u001b[0mpd\u001b[0m\u001b[0;34m.\u001b[0m\u001b[0mDataFrame\u001b[0m\u001b[0;34m(\u001b[0m\u001b[0mresponse\u001b[0m\u001b[0;34m.\u001b[0m\u001b[0mdata\u001b[0m\u001b[0;34m(\u001b[0m\u001b[0;34m)\u001b[0m\u001b[0;34m)\u001b[0m\u001b[0;34m\u001b[0m\u001b[0;34m\u001b[0m\u001b[0m\n\u001b[1;32m     86\u001b[0m         \u001b[0mminIndex\u001b[0m \u001b[0;34m=\u001b[0m \u001b[0mint\u001b[0m\u001b[0;34m(\u001b[0m\u001b[0msolutions\u001b[0m\u001b[0;34m[\u001b[0m\u001b[0;34m[\u001b[0m\u001b[0;34m'energy'\u001b[0m\u001b[0;34m]\u001b[0m\u001b[0;34m]\u001b[0m\u001b[0;34m.\u001b[0m\u001b[0midxmin\u001b[0m\u001b[0;34m(\u001b[0m\u001b[0;34m)\u001b[0m\u001b[0;34m)\u001b[0m\u001b[0;34m\u001b[0m\u001b[0;34m\u001b[0m\u001b[0m\n",
      "\u001b[0;32m~/.local/lib/python3.8/site-packages/dimod/core/sampler.py\u001b[0m in \u001b[0;36msample_qubo\u001b[0;34m(self, Q, **parameters)\u001b[0m\n\u001b[1;32m    291\u001b[0m         \"\"\"\n\u001b[1;32m    292\u001b[0m         \u001b[0mbqm\u001b[0m \u001b[0;34m=\u001b[0m \u001b[0mBinaryQuadraticModel\u001b[0m\u001b[0;34m.\u001b[0m\u001b[0mfrom_qubo\u001b[0m\u001b[0;34m(\u001b[0m\u001b[0mQ\u001b[0m\u001b[0;34m)\u001b[0m\u001b[0;34m\u001b[0m\u001b[0;34m\u001b[0m\u001b[0m\n\u001b[0;32m--> 293\u001b[0;31m         \u001b[0;32mreturn\u001b[0m \u001b[0mself\u001b[0m\u001b[0;34m.\u001b[0m\u001b[0msample\u001b[0m\u001b[0;34m(\u001b[0m\u001b[0mbqm\u001b[0m\u001b[0;34m,\u001b[0m \u001b[0;34m**\u001b[0m\u001b[0mparameters\u001b[0m\u001b[0;34m)\u001b[0m\u001b[0;34m\u001b[0m\u001b[0;34m\u001b[0m\u001b[0m\n\u001b[0m\u001b[1;32m    294\u001b[0m \u001b[0;34m\u001b[0m\u001b[0m\n\u001b[1;32m    295\u001b[0m     \u001b[0;32mdef\u001b[0m \u001b[0mremove_unknown_kwargs\u001b[0m\u001b[0;34m(\u001b[0m\u001b[0mself\u001b[0m\u001b[0;34m,\u001b[0m \u001b[0;34m**\u001b[0m\u001b[0mkwargs\u001b[0m\u001b[0;34m)\u001b[0m\u001b[0;34m:\u001b[0m\u001b[0;34m\u001b[0m\u001b[0;34m\u001b[0m\u001b[0m\n",
      "\u001b[0;32m~/.local/lib/python3.8/site-packages/dwave/system/composites/embedding.py\u001b[0m in \u001b[0;36msample\u001b[0;34m(self, bqm, chain_strength, chain_break_method, chain_break_fraction, embedding_parameters, return_embedding, warnings, **parameters)\u001b[0m\n\u001b[1;32m    237\u001b[0m \u001b[0;34m\u001b[0m\u001b[0m\n\u001b[1;32m    238\u001b[0m         \u001b[0;32mif\u001b[0m \u001b[0mbqm\u001b[0m \u001b[0;32mand\u001b[0m \u001b[0;32mnot\u001b[0m \u001b[0membedding\u001b[0m\u001b[0;34m:\u001b[0m\u001b[0;34m\u001b[0m\u001b[0;34m\u001b[0m\u001b[0m\n\u001b[0;32m--> 239\u001b[0;31m             \u001b[0;32mraise\u001b[0m \u001b[0mValueError\u001b[0m\u001b[0;34m(\u001b[0m\u001b[0;34m\"no embedding found\"\u001b[0m\u001b[0;34m)\u001b[0m\u001b[0;34m\u001b[0m\u001b[0;34m\u001b[0m\u001b[0m\n\u001b[0m\u001b[1;32m    240\u001b[0m \u001b[0;34m\u001b[0m\u001b[0m\n\u001b[1;32m    241\u001b[0m         \u001b[0;32mif\u001b[0m \u001b[0;32mnot\u001b[0m \u001b[0mhasattr\u001b[0m\u001b[0;34m(\u001b[0m\u001b[0membedding\u001b[0m\u001b[0;34m,\u001b[0m \u001b[0;34m'embed_bqm'\u001b[0m\u001b[0;34m)\u001b[0m\u001b[0;34m:\u001b[0m\u001b[0;34m\u001b[0m\u001b[0;34m\u001b[0m\u001b[0m\n",
      "\u001b[0;31mValueError\u001b[0m: no embedding found"
     ]
    }
   ],
   "source": [
    "num_cycles=[5]\n",
    "num_samples=[250,500]\n",
    "strengths=[100,1000]\n",
    "runs=3\n",
    "tot_cycles=len(num_cycles)\n",
    "tot_samples=len(num_samples)\n",
    "tot_str=len(strengths)\n",
    "print(tot_cycles)\n",
    "print(tot_samples)\n",
    "\n",
    "results_QPUTest = Test(True, num_cycles, num_samples, strengths, runs)\n",
    "pprint(results_QPUTest)"
   ]
  },
  {
   "cell_type": "markdown",
   "metadata": {},
   "source": [
    "Here only one run completed before embedding error occurred.\n",
    "\n",
    "Below code is old tests, in both tests no errors but occasional energy blowup."
   ]
  },
  {
   "cell_type": "code",
   "execution_count": 13,
   "metadata": {},
   "outputs": [
    {
     "name": "stdout",
     "output_type": "stream",
     "text": [
      "Energy:  794.5741843677824\n",
      "Time:  70898.3\n",
      "Run  0 completed.\n",
      "Energy:  -205.14294722753402\n",
      "Time:  70884.7\n",
      "Run  1 completed.\n",
      "Energy:  789.4239689143142\n",
      "Time:  70884.5\n",
      "Run  2 completed.\n",
      "Energy:  805.0207053476479\n",
      "Time:  70884.3\n",
      "Run  3 completed.\n",
      "Energy:  10830.837969870132\n",
      "Time:  70951.9\n",
      "Run  4 completed.\n",
      "Result  4 250 1000  finished.\n",
      "[[4,\n",
      "  250,\n",
      "  1000,\n",
      "  2808.4766514251664,\n",
      "  4619.93441374712,\n",
      "  70900.74,\n",
      "  29.217255175663695]]\n"
     ]
    }
   ],
   "source": [
    "num_cycles=[4]\n",
    "num_samples=[250]\n",
    "strengths=[1000]\n",
    "runs=5\n",
    "\n",
    "results_QPUTest = Test(True, num_cycles, num_samples, strengths, runs)\n",
    "pprint(results_QPUTest)"
   ]
  },
  {
   "cell_type": "code",
   "execution_count": 14,
   "metadata": {},
   "outputs": [
    {
     "name": "stdout",
     "output_type": "stream",
     "text": [
      "Energy:  13804.234388596728\n",
      "Time:  70962.3\n",
      "Run  0 completed.\n",
      "Energy:  -205.53693288384238\n",
      "Time:  70950.7\n",
      "Run  1 completed.\n",
      "Energy:  -205.53791769311647\n",
      "Time:  70791.1\n",
      "Run  2 completed.\n",
      "Energy:  2815.5632122055104\n",
      "Time:  70794.7\n",
      "Run  3 completed.\n",
      "Energy:  -205.53387517069496\n",
      "Time:  70591.7\n",
      "Run  4 completed.\n",
      "Result  4 250 1000  finished.\n",
      "[[4,\n",
      "  250,\n",
      "  1000,\n",
      "  3406.171650181615,\n",
      "  6070.226681585684,\n",
      "  70818.1,\n",
      "  150.75635973318109]]\n"
     ]
    }
   ],
   "source": [
    "num_cycles=[4]\n",
    "num_samples=[250]\n",
    "strengths=[1000]\n",
    "runs=5\n",
    "\n",
    "results_QPUTest = Test(True, num_cycles, num_samples, strengths, runs)\n",
    "pprint(results_QPUTest)"
   ]
  },
  {
   "cell_type": "code",
   "execution_count": 30,
   "metadata": {},
   "outputs": [
    {
     "name": "stdout",
     "output_type": "stream",
     "text": [
      "-205.54390640774363\n"
     ]
    }
   ],
   "source": [
    "#QPU\n",
    "test_result = QCC_m(3, 1, 5, 500, 1000)\n",
    "print(test_result)"
   ]
  },
  {
   "cell_type": "code",
   "execution_count": 14,
   "metadata": {},
   "outputs": [
    {
     "name": "stdout",
     "output_type": "stream",
     "text": [
      "-205.5439064077509\n"
     ]
    }
   ],
   "source": [
    "#QPU\n",
    "test_result = QCC_m(3, 1, 5, 500, 1000)\n",
    "print(test_result)"
   ]
  },
  {
   "cell_type": "code",
   "execution_count": 27,
   "metadata": {},
   "outputs": [
    {
     "name": "stdout",
     "output_type": "stream",
     "text": [
      "Test 1: Energy:  -205.54390640795464  Timing info: \n",
      " {'qpu_sampling_time': 119470.0, 'qpu_anneal_time_per_sample': 20.0, 'qpu_readout_time_per_sample': 198.4, 'qpu_access_time': 130285.7, 'qpu_access_overhead_time': 1457.3, 'qpu_programming_time': 10815.7, 'qpu_delay_time_per_sample': 20.54, 'post_processing_overhead_time': 773.0, 'total_post_processing_time': 773.0}\n"
     ]
    }
   ],
   "source": [
    "test_result1 = QCC_m(3, 1, 4, 500, 1000)\n",
    "print(\"Test 1: Energy: \", test_result1[0], \"\\nTiming info: \\n\", test_result1[1])"
   ]
  },
  {
   "cell_type": "code",
   "execution_count": 41,
   "metadata": {},
   "outputs": [
    {
     "name": "stdout",
     "output_type": "stream",
     "text": [
      "Test 2: Energy:  -205.54647300940997  Time:  24.456588983535767\n"
     ]
    }
   ],
   "source": [
    "start_time = time.time()\n",
    "test_result2 = QCC_m(3, 1, 5, 500, 1000)\n",
    "end_time2 = time.time() - start_time\n",
    "print(\"Test 2: Energy: \", test_result2, \" Time: \", end_time2)"
   ]
  },
  {
   "cell_type": "code",
   "execution_count": 40,
   "metadata": {},
   "outputs": [
    {
     "name": "stdout",
     "output_type": "stream",
     "text": [
      "Test 3: Energy:  -202.6327709092584  Time:  138.12823510169983\n"
     ]
    }
   ],
   "source": [
    "start_time = time.time()\n",
    "test_result3 = QCC_m(3, 1, 4, 250, 1000)\n",
    "end_time3 = time.time() - start_time\n",
    "print(\"Test 3: Energy: \", test_result3, \" Time: \", end_time3)"
   ]
  },
  {
   "cell_type": "code",
   "execution_count": 42,
   "metadata": {},
   "outputs": [
    {
     "name": "stdout",
     "output_type": "stream",
     "text": [
      "Test 4: Energy:  7849.936954598757  Time:  77.70472645759583\n"
     ]
    }
   ],
   "source": [
    "start_time = time.time()\n",
    "test_result4 = QCC_m(3, 1, 5, 250, 1000)\n",
    "end_time4 = time.time() - start_time\n",
    "print(\"Test 4: Energy: \", test_result4, \" Time: \", end_time4)"
   ]
  },
  {
   "cell_type": "code",
   "execution_count": 43,
   "metadata": {},
   "outputs": [
    {
     "name": "stdout",
     "output_type": "stream",
     "text": [
      "Test 5: Energy:  -144.50730588356964  Time:  112.0889539718628\n"
     ]
    }
   ],
   "source": [
    "start_time = time.time()\n",
    "test_result5 = QCC_m(3, 1, 5, 500, 1000)\n",
    "end_time5 = time.time() - start_time\n",
    "print(\"Test 5: Energy: \", test_result5, \" Time: \", end_time5)"
   ]
  }
 ],
 "metadata": {
  "kernelspec": {
   "display_name": "Python 3 (ipykernel)",
   "language": "python",
   "name": "python3"
  },
  "language_info": {
   "codemirror_mode": {
    "name": "ipython",
    "version": 3
   },
   "file_extension": ".py",
   "mimetype": "text/x-python",
   "name": "python",
   "nbconvert_exporter": "python",
   "pygments_lexer": "ipython3",
   "version": "3.8.10"
  }
 },
 "nbformat": 4,
 "nbformat_minor": 4
}
